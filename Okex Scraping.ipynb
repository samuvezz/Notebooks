{
 "cells": [
  {
   "cell_type": "markdown",
   "metadata": {},
   "source": [
    "This script retrives data from the following website through an API: 'https://www.okex.com' \n",
    "In particular I was interested in futures, spot and swap data of Bitcoin and Ethereum"
   ]
  },
  {
   "cell_type": "code",
   "execution_count": 1,
   "metadata": {},
   "outputs": [],
   "source": [
    "import os.path\n",
    "import csv\n",
    "\n",
    "import requests\n",
    "from bs4 import BeautifulSoup \n",
    "import pandas as pd\n",
    "import datetime as dt"
   ]
  },
  {
   "cell_type": "markdown",
   "metadata": {},
   "source": [
    "# FUTURES"
   ]
  },
  {
   "cell_type": "code",
   "execution_count": 2,
   "metadata": {},
   "outputs": [],
   "source": [
    "url = 'https://www.okex.com'\n",
    "data = pd.DataFrame((requests.get(url+'/api/v5/market/tickers?instType=FUTURES').json())['data'])\n",
    "data = data.drop('instType', axis=1)"
   ]
  },
  {
   "cell_type": "code",
   "execution_count": 3,
   "metadata": {},
   "outputs": [],
   "source": [
    "data['ts'] = pd.to_datetime(data.ts, unit='ms')"
   ]
  },
  {
   "cell_type": "code",
   "execution_count": 4,
   "metadata": {},
   "outputs": [],
   "source": [
    "futures_coin_margin = ['BTC-USD-220729', 'BTC-USD-220805', 'BTC-USD-220930', 'BTC-USD-221230', 'ETH-USD-220729', 'ETH-USD-220805', 'ETH-USD-220930', 'ETH-USD-221230']"
   ]
  },
  {
   "cell_type": "code",
   "execution_count": 5,
   "metadata": {},
   "outputs": [],
   "source": [
    "OKEx_FCM = data.loc[data['instId'].isin(futures_coin_margin)]"
   ]
  },
  {
   "cell_type": "code",
   "execution_count": 6,
   "metadata": {},
   "outputs": [],
   "source": [
    "futures_USDT_margin = ['BTC-USDT-220729', 'BTC-USDT-220805', 'BTC-USDT-220930', 'BTC-USDT-221230', 'ETH-USDT-220729', 'ETH-USDT-220805', 'ETH-USDT-220930', 'ETH-USDT-221230']"
   ]
  },
  {
   "cell_type": "code",
   "execution_count": 7,
   "metadata": {},
   "outputs": [],
   "source": [
    "OKEx_FUM = data.loc[data['instId'].isin(futures_USDT_margin)]"
   ]
  },
  {
   "cell_type": "code",
   "execution_count": 8,
   "metadata": {},
   "outputs": [
    {
     "name": "stderr",
     "output_type": "stream",
     "text": [
      "<ipython-input-8-03b5f77c0c3e>:1: FutureWarning: The frame.append method is deprecated and will be removed from pandas in a future version. Use pandas.concat instead.\n",
      "  df_futures = OKEx_FCM.append(OKEx_FUM)\n"
     ]
    }
   ],
   "source": [
    "df_futures = OKEx_FCM.append(OKEx_FUM)"
   ]
  },
  {
   "cell_type": "code",
   "execution_count": 9,
   "metadata": {},
   "outputs": [
    {
     "data": {
      "text/html": [
       "<div>\n",
       "<style scoped>\n",
       "    .dataframe tbody tr th:only-of-type {\n",
       "        vertical-align: middle;\n",
       "    }\n",
       "\n",
       "    .dataframe tbody tr th {\n",
       "        vertical-align: top;\n",
       "    }\n",
       "\n",
       "    .dataframe thead th {\n",
       "        text-align: right;\n",
       "    }\n",
       "</style>\n",
       "<table border=\"1\" class=\"dataframe\">\n",
       "  <thead>\n",
       "    <tr style=\"text-align: right;\">\n",
       "      <th></th>\n",
       "      <th>instId</th>\n",
       "      <th>last</th>\n",
       "      <th>lastSz</th>\n",
       "      <th>askPx</th>\n",
       "      <th>askSz</th>\n",
       "      <th>bidPx</th>\n",
       "      <th>bidSz</th>\n",
       "      <th>open24h</th>\n",
       "      <th>high24h</th>\n",
       "      <th>low24h</th>\n",
       "      <th>volCcy24h</th>\n",
       "      <th>vol24h</th>\n",
       "      <th>ts</th>\n",
       "      <th>sodUtc0</th>\n",
       "      <th>sodUtc8</th>\n",
       "    </tr>\n",
       "  </thead>\n",
       "  <tbody>\n",
       "  </tbody>\n",
       "</table>\n",
       "</div>"
      ],
      "text/plain": [
       "Empty DataFrame\n",
       "Columns: [instId, last, lastSz, askPx, askSz, bidPx, bidSz, open24h, high24h, low24h, volCcy24h, vol24h, ts, sodUtc0, sodUtc8]\n",
       "Index: []"
      ]
     },
     "execution_count": 9,
     "metadata": {},
     "output_type": "execute_result"
    }
   ],
   "source": [
    "df_futures"
   ]
  },
  {
   "cell_type": "code",
   "execution_count": 10,
   "metadata": {},
   "outputs": [
    {
     "name": "stdout",
     "output_type": "stream",
     "text": [
      "Empty DataFrame\n",
      "Columns: [instId, last, lastSz, askPx, askSz, bidPx, bidSz, open24h, high24h, low24h, volCcy24h, vol24h, ts, sodUtc0, sodUtc8]\n",
      "Index: []\n"
     ]
    }
   ],
   "source": [
    "print(df_futures)\n",
    "filename=\"OKEx Futures.csv\"\n",
    "header=True\n",
    "if os.path.isfile(filename):\n",
    "    header=False\n",
    "df_futures.to_csv(filename, mode=\"a\", header=header, sep=\",\", quoting=csv.QUOTE_NONE, quotechar=\"\",  escapechar=\"\\\\\") "
   ]
  },
  {
   "cell_type": "markdown",
   "metadata": {},
   "source": [
    "# SPOT"
   ]
  },
  {
   "cell_type": "code",
   "execution_count": 11,
   "metadata": {},
   "outputs": [],
   "source": [
    "url = 'https://www.okex.com'\n",
    "data = pd.DataFrame((requests.get(url+'/api/v5/market/tickers?instType=SPOT').json())['data'])\n",
    "data = data.drop('instType', axis=1)"
   ]
  },
  {
   "cell_type": "code",
   "execution_count": 12,
   "metadata": {},
   "outputs": [],
   "source": [
    "data['ts'] = pd.to_datetime(data.ts, unit='ms')"
   ]
  },
  {
   "cell_type": "code",
   "execution_count": 13,
   "metadata": {},
   "outputs": [],
   "source": [
    "spot = ['BTC-USDT', 'ETH-USDT']"
   ]
  },
  {
   "cell_type": "code",
   "execution_count": 14,
   "metadata": {},
   "outputs": [],
   "source": [
    "OKEx_spot = data.loc[data['instId'].isin(spot)]"
   ]
  },
  {
   "cell_type": "code",
   "execution_count": 15,
   "metadata": {},
   "outputs": [],
   "source": [
    "df_spot = OKEx_spot"
   ]
  },
  {
   "cell_type": "code",
   "execution_count": 16,
   "metadata": {},
   "outputs": [
    {
     "data": {
      "text/html": [
       "<div>\n",
       "<style scoped>\n",
       "    .dataframe tbody tr th:only-of-type {\n",
       "        vertical-align: middle;\n",
       "    }\n",
       "\n",
       "    .dataframe tbody tr th {\n",
       "        vertical-align: top;\n",
       "    }\n",
       "\n",
       "    .dataframe thead th {\n",
       "        text-align: right;\n",
       "    }\n",
       "</style>\n",
       "<table border=\"1\" class=\"dataframe\">\n",
       "  <thead>\n",
       "    <tr style=\"text-align: right;\">\n",
       "      <th></th>\n",
       "      <th>instId</th>\n",
       "      <th>last</th>\n",
       "      <th>lastSz</th>\n",
       "      <th>askPx</th>\n",
       "      <th>askSz</th>\n",
       "      <th>bidPx</th>\n",
       "      <th>bidSz</th>\n",
       "      <th>open24h</th>\n",
       "      <th>high24h</th>\n",
       "      <th>low24h</th>\n",
       "      <th>volCcy24h</th>\n",
       "      <th>vol24h</th>\n",
       "      <th>ts</th>\n",
       "      <th>sodUtc0</th>\n",
       "      <th>sodUtc8</th>\n",
       "    </tr>\n",
       "  </thead>\n",
       "  <tbody>\n",
       "    <tr>\n",
       "      <th>194</th>\n",
       "      <td>BTC-USDT</td>\n",
       "      <td>29111.7</td>\n",
       "      <td>0.0001374</td>\n",
       "      <td>29111.7</td>\n",
       "      <td>0.50037056</td>\n",
       "      <td>29111.6</td>\n",
       "      <td>0.23350222</td>\n",
       "      <td>28512.8</td>\n",
       "      <td>29284.2</td>\n",
       "      <td>28107.2</td>\n",
       "      <td>322822327.691272445</td>\n",
       "      <td>11272.31675235</td>\n",
       "      <td>2023-05-04 05:00:46.009</td>\n",
       "      <td>29033</td>\n",
       "      <td>28306.4</td>\n",
       "    </tr>\n",
       "    <tr>\n",
       "      <th>459</th>\n",
       "      <td>ETH-USDT</td>\n",
       "      <td>1900.97</td>\n",
       "      <td>0.012592</td>\n",
       "      <td>1900.97</td>\n",
       "      <td>0.618467</td>\n",
       "      <td>1900.96</td>\n",
       "      <td>11.095008</td>\n",
       "      <td>1862.48</td>\n",
       "      <td>1916.58</td>\n",
       "      <td>1842.78</td>\n",
       "      <td>170413577.70573045</td>\n",
       "      <td>90745.841171</td>\n",
       "      <td>2023-05-04 05:00:47.809</td>\n",
       "      <td>1905</td>\n",
       "      <td>1853.28</td>\n",
       "    </tr>\n",
       "  </tbody>\n",
       "</table>\n",
       "</div>"
      ],
      "text/plain": [
       "       instId     last     lastSz    askPx       askSz    bidPx       bidSz  \\\n",
       "194  BTC-USDT  29111.7  0.0001374  29111.7  0.50037056  29111.6  0.23350222   \n",
       "459  ETH-USDT  1900.97   0.012592  1900.97    0.618467  1900.96   11.095008   \n",
       "\n",
       "     open24h  high24h   low24h            volCcy24h          vol24h  \\\n",
       "194  28512.8  29284.2  28107.2  322822327.691272445  11272.31675235   \n",
       "459  1862.48  1916.58  1842.78   170413577.70573045    90745.841171   \n",
       "\n",
       "                         ts sodUtc0  sodUtc8  \n",
       "194 2023-05-04 05:00:46.009   29033  28306.4  \n",
       "459 2023-05-04 05:00:47.809    1905  1853.28  "
      ]
     },
     "execution_count": 16,
     "metadata": {},
     "output_type": "execute_result"
    }
   ],
   "source": [
    "df_spot"
   ]
  },
  {
   "cell_type": "code",
   "execution_count": 17,
   "metadata": {},
   "outputs": [
    {
     "name": "stdout",
     "output_type": "stream",
     "text": [
      "       instId     last     lastSz    askPx       askSz    bidPx       bidSz  \\\n",
      "194  BTC-USDT  29111.7  0.0001374  29111.7  0.50037056  29111.6  0.23350222   \n",
      "459  ETH-USDT  1900.97   0.012592  1900.97    0.618467  1900.96   11.095008   \n",
      "\n",
      "     open24h  high24h   low24h            volCcy24h          vol24h  \\\n",
      "194  28512.8  29284.2  28107.2  322822327.691272445  11272.31675235   \n",
      "459  1862.48  1916.58  1842.78   170413577.70573045    90745.841171   \n",
      "\n",
      "                         ts sodUtc0  sodUtc8  \n",
      "194 2023-05-04 05:00:46.009   29033  28306.4  \n",
      "459 2023-05-04 05:00:47.809    1905  1853.28  \n"
     ]
    }
   ],
   "source": [
    "print(df_spot)\n",
    "filename=\"OKEx Spot.csv\"\n",
    "header=True\n",
    "if os.path.isfile(filename):\n",
    "    header=False\n",
    "df_spot.to_csv(filename, mode=\"a\", header=header, sep=\",\", quoting=csv.QUOTE_NONE, quotechar=\"\",  escapechar=\"\\\\\") "
   ]
  },
  {
   "cell_type": "markdown",
   "metadata": {},
   "source": [
    "# SWAP"
   ]
  },
  {
   "cell_type": "code",
   "execution_count": 18,
   "metadata": {},
   "outputs": [],
   "source": [
    "url = 'https://www.okex.com'\n",
    "data = pd.DataFrame((requests.get(url+'/api/v5/market/tickers?instType=SWAP').json())['data'])\n",
    "data = data.drop('instType', axis=1)"
   ]
  },
  {
   "cell_type": "code",
   "execution_count": 19,
   "metadata": {},
   "outputs": [],
   "source": [
    "data['ts'] = pd.to_datetime(data.ts, unit='ms')"
   ]
  },
  {
   "cell_type": "code",
   "execution_count": 20,
   "metadata": {},
   "outputs": [],
   "source": [
    "swap = ['BTC-USD-SWAP', 'ETH-USD-SWAP','BTC-USDT-SWAP','ETH-USDT-SWAP']"
   ]
  },
  {
   "cell_type": "code",
   "execution_count": 21,
   "metadata": {},
   "outputs": [],
   "source": [
    "OKEx_swap = data.loc[data['instId'].isin(swap)]"
   ]
  },
  {
   "cell_type": "code",
   "execution_count": 22,
   "metadata": {},
   "outputs": [],
   "source": [
    "df_swap = OKEx_swap"
   ]
  },
  {
   "cell_type": "code",
   "execution_count": 24,
   "metadata": {},
   "outputs": [
    {
     "data": {
      "text/html": [
       "<div>\n",
       "<style scoped>\n",
       "    .dataframe tbody tr th:only-of-type {\n",
       "        vertical-align: middle;\n",
       "    }\n",
       "\n",
       "    .dataframe tbody tr th {\n",
       "        vertical-align: top;\n",
       "    }\n",
       "\n",
       "    .dataframe thead th {\n",
       "        text-align: right;\n",
       "    }\n",
       "</style>\n",
       "<table border=\"1\" class=\"dataframe\">\n",
       "  <thead>\n",
       "    <tr style=\"text-align: right;\">\n",
       "      <th></th>\n",
       "      <th>instId</th>\n",
       "      <th>last</th>\n",
       "      <th>lastSz</th>\n",
       "      <th>askPx</th>\n",
       "      <th>askSz</th>\n",
       "      <th>bidPx</th>\n",
       "      <th>bidSz</th>\n",
       "      <th>open24h</th>\n",
       "      <th>high24h</th>\n",
       "      <th>low24h</th>\n",
       "      <th>volCcy24h</th>\n",
       "      <th>vol24h</th>\n",
       "      <th>ts</th>\n",
       "      <th>sodUtc0</th>\n",
       "      <th>sodUtc8</th>\n",
       "    </tr>\n",
       "  </thead>\n",
       "  <tbody>\n",
       "    <tr>\n",
       "      <th>17</th>\n",
       "      <td>BTC-USDT-SWAP</td>\n",
       "      <td>29108.1</td>\n",
       "      <td>5</td>\n",
       "      <td>29108.1</td>\n",
       "      <td>24</td>\n",
       "      <td>29108</td>\n",
       "      <td>734</td>\n",
       "      <td>28513.5</td>\n",
       "      <td>29283.1</td>\n",
       "      <td>28101.1</td>\n",
       "      <td>180503.01</td>\n",
       "      <td>18050301</td>\n",
       "      <td>2023-05-04 05:01:18.009</td>\n",
       "      <td>29038.9</td>\n",
       "      <td>28314</td>\n",
       "    </tr>\n",
       "    <tr>\n",
       "      <th>48</th>\n",
       "      <td>ETH-USDT-SWAP</td>\n",
       "      <td>1901.21</td>\n",
       "      <td>36</td>\n",
       "      <td>1901.21</td>\n",
       "      <td>140</td>\n",
       "      <td>1901.2</td>\n",
       "      <td>1840</td>\n",
       "      <td>1862.87</td>\n",
       "      <td>1917</td>\n",
       "      <td>1842.6</td>\n",
       "      <td>2546955.1</td>\n",
       "      <td>25469551</td>\n",
       "      <td>2023-05-04 05:01:17.709</td>\n",
       "      <td>1904.98</td>\n",
       "      <td>1853.32</td>\n",
       "    </tr>\n",
       "    <tr>\n",
       "      <th>98</th>\n",
       "      <td>BTC-USD-SWAP</td>\n",
       "      <td>29119.1</td>\n",
       "      <td>93</td>\n",
       "      <td>29119.2</td>\n",
       "      <td>239</td>\n",
       "      <td>29119.1</td>\n",
       "      <td>152</td>\n",
       "      <td>28531.9</td>\n",
       "      <td>29288</td>\n",
       "      <td>28119.5</td>\n",
       "      <td>19899.8955</td>\n",
       "      <td>5700261</td>\n",
       "      <td>2023-05-04 05:01:17.009</td>\n",
       "      <td>29046.6</td>\n",
       "      <td>28323.7</td>\n",
       "    </tr>\n",
       "    <tr>\n",
       "      <th>121</th>\n",
       "      <td>ETH-USD-SWAP</td>\n",
       "      <td>1901.16</td>\n",
       "      <td>164</td>\n",
       "      <td>1901.15</td>\n",
       "      <td>956</td>\n",
       "      <td>1901.14</td>\n",
       "      <td>4085</td>\n",
       "      <td>1864.04</td>\n",
       "      <td>1918.22</td>\n",
       "      <td>1842.6</td>\n",
       "      <td>202473.0203</td>\n",
       "      <td>37977225</td>\n",
       "      <td>2023-05-04 05:01:17.011</td>\n",
       "      <td>1906</td>\n",
       "      <td>1853.83</td>\n",
       "    </tr>\n",
       "  </tbody>\n",
       "</table>\n",
       "</div>"
      ],
      "text/plain": [
       "            instId     last lastSz    askPx askSz    bidPx bidSz  open24h  \\\n",
       "17   BTC-USDT-SWAP  29108.1      5  29108.1    24    29108   734  28513.5   \n",
       "48   ETH-USDT-SWAP  1901.21     36  1901.21   140   1901.2  1840  1862.87   \n",
       "98    BTC-USD-SWAP  29119.1     93  29119.2   239  29119.1   152  28531.9   \n",
       "121   ETH-USD-SWAP  1901.16    164  1901.15   956  1901.14  4085  1864.04   \n",
       "\n",
       "     high24h   low24h    volCcy24h    vol24h                      ts  sodUtc0  \\\n",
       "17   29283.1  28101.1    180503.01  18050301 2023-05-04 05:01:18.009  29038.9   \n",
       "48      1917   1842.6    2546955.1  25469551 2023-05-04 05:01:17.709  1904.98   \n",
       "98     29288  28119.5   19899.8955   5700261 2023-05-04 05:01:17.009  29046.6   \n",
       "121  1918.22   1842.6  202473.0203  37977225 2023-05-04 05:01:17.011     1906   \n",
       "\n",
       "     sodUtc8  \n",
       "17     28314  \n",
       "48   1853.32  \n",
       "98   28323.7  \n",
       "121  1853.83  "
      ]
     },
     "execution_count": 24,
     "metadata": {},
     "output_type": "execute_result"
    }
   ],
   "source": [
    "df_swap"
   ]
  },
  {
   "cell_type": "code",
   "execution_count": 23,
   "metadata": {},
   "outputs": [
    {
     "name": "stdout",
     "output_type": "stream",
     "text": [
      "            instId     last lastSz    askPx askSz    bidPx bidSz  open24h  \\\n",
      "17   BTC-USDT-SWAP  29108.1      5  29108.1    24    29108   734  28513.5   \n",
      "48   ETH-USDT-SWAP  1901.21     36  1901.21   140   1901.2  1840  1862.87   \n",
      "98    BTC-USD-SWAP  29119.1     93  29119.2   239  29119.1   152  28531.9   \n",
      "121   ETH-USD-SWAP  1901.16    164  1901.15   956  1901.14  4085  1864.04   \n",
      "\n",
      "     high24h   low24h    volCcy24h    vol24h                      ts  sodUtc0  \\\n",
      "17   29283.1  28101.1    180503.01  18050301 2023-05-04 05:01:18.009  29038.9   \n",
      "48      1917   1842.6    2546955.1  25469551 2023-05-04 05:01:17.709  1904.98   \n",
      "98     29288  28119.5   19899.8955   5700261 2023-05-04 05:01:17.009  29046.6   \n",
      "121  1918.22   1842.6  202473.0203  37977225 2023-05-04 05:01:17.011     1906   \n",
      "\n",
      "     sodUtc8  \n",
      "17     28314  \n",
      "48   1853.32  \n",
      "98   28323.7  \n",
      "121  1853.83  \n"
     ]
    }
   ],
   "source": [
    "print(df_swap)\n",
    "filename=\"OKEx SWAP.csv\"\n",
    "header=True\n",
    "if os.path.isfile(filename):\n",
    "    header=False\n",
    "df_swap.to_csv(filename, mode=\"a\", header=header, sep=\",\", quoting=csv.QUOTE_NONE, quotechar=\"\",  escapechar=\"\\\\\") "
   ]
  },
  {
   "cell_type": "code",
   "execution_count": null,
   "metadata": {},
   "outputs": [],
   "source": []
  }
 ],
 "metadata": {
  "kernelspec": {
   "display_name": "Python 3",
   "language": "python",
   "name": "python3"
  },
  "language_info": {
   "codemirror_mode": {
    "name": "ipython",
    "version": 3
   },
   "file_extension": ".py",
   "mimetype": "text/x-python",
   "name": "python",
   "nbconvert_exporter": "python",
   "pygments_lexer": "ipython3",
   "version": "3.8.5"
  }
 },
 "nbformat": 4,
 "nbformat_minor": 4
}
